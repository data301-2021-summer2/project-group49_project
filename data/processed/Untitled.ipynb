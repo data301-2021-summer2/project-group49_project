{
 "cells": [
  {
   "cell_type": "code",
   "execution_count": null,
   "id": "a784b579-c120-4a85-88ed-238c3147f66b",
   "metadata": {},
   "outputs": [],
   "source": [
    "# Method chain 1 (Load data, clean data and deal with missing data)\n",
    "\n",
    "heart_file = (data.rename(columns = {'age':'Age', 'sex':'Sex of Patient',\n",
    "                     'cp':'Chest Pain','trtbps':'Resting bp(mmHg)','chol':'Cholesterol',\n",
    "                     'restecg':'Resting ECG','thalachh':'Max Heart Rate','fbs':'Fasting Blood Sugar','output':'Result'})\n",
    "        .dropna(axis ='columns'))  \n",
    "\n",
    "heart_file\n",
    "\n",
    "#removed NaN values in columns\n",
    "#renamed columns"
   ]
  }
 ],
 "metadata": {
  "kernelspec": {
   "display_name": "Python 3 (ipykernel)",
   "language": "python",
   "name": "python3"
  },
  "language_info": {
   "codemirror_mode": {
    "name": "ipython",
    "version": 3
   },
   "file_extension": ".py",
   "mimetype": "text/x-python",
   "name": "python",
   "nbconvert_exporter": "python",
   "pygments_lexer": "ipython3",
   "version": "3.8.5"
  }
 },
 "nbformat": 4,
 "nbformat_minor": 5
}
