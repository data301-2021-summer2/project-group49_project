{
 "cells": [
  {
   "cell_type": "code",
   "execution_count": 16,
   "id": "56dd5446-63fc-4fcc-ba4d-9159e3913a1d",
   "metadata": {},
   "outputs": [
    {
     "data": {
      "text/plain": [
       "'Eloise '"
      ]
     },
     "execution_count": 16,
     "metadata": {},
     "output_type": "execute_result"
    }
   ],
   "source": [
    "user_name = \"::::::::Eloise :::::::::::\"\n",
    "user_name.strip(\":\") \n"
   ]
  },
  {
   "cell_type": "code",
   "execution_count": 17,
   "id": "b397fe1e-a0c7-4d0b-b9de-c5cb1dfbf528",
   "metadata": {},
   "outputs": [
    {
     "data": {
      "text/plain": [
       "{'fruit': 'apple', 'vegetable': 100, 'spice': ['salt', 'paprika', 'saffron']}"
      ]
     },
     "execution_count": 17,
     "metadata": {},
     "output_type": "execute_result"
    }
   ],
   "source": [
    "{\"fruit\": \"apple\", \"vegetable\": 100, \"spice\": [\"salt\", \"paprika\", \"saffron\"]}"
   ]
  },
  {
   "cell_type": "code",
   "execution_count": 18,
   "id": "7bf0294a-0ec7-46fe-a688-1b8e1f724f5c",
   "metadata": {},
   "outputs": [
    {
     "data": {
      "text/plain": [
       "{2: ['apple', 'orange'], 1: ['broccoli'], 3: ['salt', 'paprika', 'saffron']}"
      ]
     },
     "execution_count": 18,
     "metadata": {},
     "output_type": "execute_result"
    }
   ],
   "source": [
    "{2: [\"apple\", \"orange\"], 1: [\"broccoli\"], 3: [\"salt\", \"paprika\", \"saffron\"]}"
   ]
  },
  {
   "cell_type": "code",
   "execution_count": 19,
   "id": "0440d33f-8906-4b43-9788-d559da7bdfea",
   "metadata": {},
   "outputs": [
    {
     "ename": "TypeError",
     "evalue": "unhashable type: 'list'",
     "output_type": "error",
     "traceback": [
      "\u001b[1;31m---------------------------------------------------------------------------\u001b[0m",
      "\u001b[1;31mTypeError\u001b[0m                                 Traceback (most recent call last)",
      "\u001b[1;32m~\\AppData\\Local\\Temp/ipykernel_15980/2366484798.py\u001b[0m in \u001b[0;36m<module>\u001b[1;34m\u001b[0m\n\u001b[1;32m----> 1\u001b[1;33m \u001b[1;33m{\u001b[0m\u001b[1;33m[\u001b[0m\u001b[1;34m\"apple\"\u001b[0m\u001b[1;33m,\u001b[0m \u001b[1;34m\"orange\"\u001b[0m\u001b[1;33m]\u001b[0m\u001b[1;33m:\u001b[0m \u001b[1;34m\"fruit\"\u001b[0m\u001b[1;33m,\u001b[0m \u001b[1;33m[\u001b[0m\u001b[1;34m\"broccoli\"\u001b[0m\u001b[1;33m]\u001b[0m\u001b[1;33m:\u001b[0m \u001b[1;34m\"vegetable\"\u001b[0m\u001b[1;33m,\u001b[0m \u001b[1;33m[\u001b[0m\u001b[1;34m\"salt\"\u001b[0m\u001b[1;33m,\u001b[0m \u001b[1;34m\"paprika\"\u001b[0m\u001b[1;33m,\u001b[0m \u001b[1;34m\"saffron\"\u001b[0m\u001b[1;33m]\u001b[0m\u001b[1;33m:\u001b[0m \u001b[1;34m\"spice\"\u001b[0m\u001b[1;33m}\u001b[0m\u001b[1;33m\u001b[0m\u001b[1;33m\u001b[0m\u001b[0m\n\u001b[0m",
      "\u001b[1;31mTypeError\u001b[0m: unhashable type: 'list'"
     ]
    }
   ],
   "source": [
    "{[\"apple\", \"orange\"]: \"fruit\", [\"broccoli\"]: \"vegetable\", [\"salt\", \"paprika\", \"saffron\"]: \"spice\"}"
   ]
  },
  {
   "cell_type": "code",
   "execution_count": null,
   "id": "3635aa0e-37df-420e-9ced-fefd0be3b86e",
   "metadata": {},
   "outputs": [],
   "source": []
  }
 ],
 "metadata": {
  "kernelspec": {
   "display_name": "Python 3 (ipykernel)",
   "language": "python",
   "name": "python3"
  },
  "language_info": {
   "codemirror_mode": {
    "name": "ipython",
    "version": 3
   },
   "file_extension": ".py",
   "mimetype": "text/x-python",
   "name": "python",
   "nbconvert_exporter": "python",
   "pygments_lexer": "ipython3",
   "version": "3.8.5"
  }
 },
 "nbformat": 4,
 "nbformat_minor": 5
}
