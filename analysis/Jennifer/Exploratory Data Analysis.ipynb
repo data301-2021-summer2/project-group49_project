{
 "cells": [
  {
   "cell_type": "markdown",
   "id": "4553cdb0-1914-4618-9679-64157373e689",
   "metadata": {},
   "source": [
    "# **Exploratory Data Analysis**\n",
    "\n",
    "This EDA will analysis will explore the dataset provided whilst attempting to answer the research questions."
   ]
  },
  {
   "cell_type": "markdown",
   "id": "f690bbc9-ea43-4675-a54b-fe91b91c109f",
   "metadata": {},
   "source": [
    "#### **Importing Packages**"
   ]
  },
  {
   "cell_type": "code",
   "execution_count": 342,
   "id": "bb02671a-861e-44c9-98e7-982f52a6024e",
   "metadata": {},
   "outputs": [],
   "source": [
    "## This notebook will be used to analyze data from the new_heart_file.csv\n",
    "\n",
    "import pandas as pd\n",
    "import numpy as np\n",
    "import seaborn as sns\n",
    "import os \n",
    "from pandas_profiling import ProfileReport\n",
    "import matplotlib.pyplot as plt\n",
    "#from .. import project_functions - invalid syntax\n",
    "\n",
    "%matplotlib inline\n"
   ]
  },
  {
   "cell_type": "markdown",
   "id": "e848878d-11db-4115-b286-df9c1d1d5868",
   "metadata": {},
   "source": [
    "## **Research Questions** \n",
    "\n",
    "1. Are women more likely than men to have a heart attack?\n",
    "2. Do higher cholesterol levels increase the chances of a heart attack occuring?\n",
    "3. What variable relationships result in a heart attack?"
   ]
  },
  {
   "cell_type": "markdown",
   "id": "2b0e81d4-0f18-47da-b9b0-4248872f6e0a",
   "metadata": {},
   "source": [
    "#### **Loading the Dataframe**"
   ]
  },
  {
   "cell_type": "code",
   "execution_count": 343,
   "id": "07c76979-6b90-4161-9812-2cbf4a7de31b",
   "metadata": {},
   "outputs": [],
   "source": [
    "df = pd.read_csv('new_heart_file.csv')\n"
   ]
  },
  {
   "cell_type": "code",
   "execution_count": 344,
   "id": "9816f649-0f61-41aa-be27-a809bfe27f1c",
   "metadata": {},
   "outputs": [
    {
     "data": {
      "text/html": [
       "<div>\n",
       "<style scoped>\n",
       "    .dataframe tbody tr th:only-of-type {\n",
       "        vertical-align: middle;\n",
       "    }\n",
       "\n",
       "    .dataframe tbody tr th {\n",
       "        vertical-align: top;\n",
       "    }\n",
       "\n",
       "    .dataframe thead th {\n",
       "        text-align: right;\n",
       "    }\n",
       "</style>\n",
       "<table border=\"1\" class=\"dataframe\">\n",
       "  <thead>\n",
       "    <tr style=\"text-align: right;\">\n",
       "      <th></th>\n",
       "      <th>Unnamed: 0</th>\n",
       "      <th>Age</th>\n",
       "      <th>Sex</th>\n",
       "      <th>Chest Pain</th>\n",
       "      <th>Resting bp(mmHg)</th>\n",
       "      <th>Cholesterol</th>\n",
       "      <th>Fasting Blood Sugar</th>\n",
       "      <th>Resting ECG</th>\n",
       "      <th>Max Heart Rate</th>\n",
       "      <th>Result</th>\n",
       "    </tr>\n",
       "  </thead>\n",
       "  <tbody>\n",
       "    <tr>\n",
       "      <th>0</th>\n",
       "      <td>111</td>\n",
       "      <td>57</td>\n",
       "      <td>1</td>\n",
       "      <td>2</td>\n",
       "      <td>150</td>\n",
       "      <td>126</td>\n",
       "      <td>1</td>\n",
       "      <td>1</td>\n",
       "      <td>173</td>\n",
       "      <td>1</td>\n",
       "    </tr>\n",
       "    <tr>\n",
       "      <th>1</th>\n",
       "      <td>301</td>\n",
       "      <td>57</td>\n",
       "      <td>1</td>\n",
       "      <td>0</td>\n",
       "      <td>130</td>\n",
       "      <td>131</td>\n",
       "      <td>0</td>\n",
       "      <td>1</td>\n",
       "      <td>115</td>\n",
       "      <td>0</td>\n",
       "    </tr>\n",
       "    <tr>\n",
       "      <th>2</th>\n",
       "      <td>53</td>\n",
       "      <td>44</td>\n",
       "      <td>0</td>\n",
       "      <td>2</td>\n",
       "      <td>108</td>\n",
       "      <td>141</td>\n",
       "      <td>0</td>\n",
       "      <td>1</td>\n",
       "      <td>175</td>\n",
       "      <td>1</td>\n",
       "    </tr>\n",
       "    <tr>\n",
       "      <th>3</th>\n",
       "      <td>151</td>\n",
       "      <td>71</td>\n",
       "      <td>0</td>\n",
       "      <td>0</td>\n",
       "      <td>112</td>\n",
       "      <td>149</td>\n",
       "      <td>0</td>\n",
       "      <td>1</td>\n",
       "      <td>125</td>\n",
       "      <td>1</td>\n",
       "    </tr>\n",
       "    <tr>\n",
       "      <th>4</th>\n",
       "      <td>267</td>\n",
       "      <td>49</td>\n",
       "      <td>1</td>\n",
       "      <td>2</td>\n",
       "      <td>118</td>\n",
       "      <td>149</td>\n",
       "      <td>0</td>\n",
       "      <td>0</td>\n",
       "      <td>126</td>\n",
       "      <td>0</td>\n",
       "    </tr>\n",
       "  </tbody>\n",
       "</table>\n",
       "</div>"
      ],
      "text/plain": [
       "   Unnamed: 0  Age  Sex  Chest Pain  Resting bp(mmHg)  Cholesterol  \\\n",
       "0         111   57    1           2               150          126   \n",
       "1         301   57    1           0               130          131   \n",
       "2          53   44    0           2               108          141   \n",
       "3         151   71    0           0               112          149   \n",
       "4         267   49    1           2               118          149   \n",
       "\n",
       "   Fasting Blood Sugar  Resting ECG  Max Heart Rate  Result  \n",
       "0                    1            1             173       1  \n",
       "1                    0            1             115       0  \n",
       "2                    0            1             175       1  \n",
       "3                    0            1             125       1  \n",
       "4                    0            0             126       0  "
      ]
     },
     "execution_count": 344,
     "metadata": {},
     "output_type": "execute_result"
    }
   ],
   "source": [
    "df.head()"
   ]
  },
  {
   "cell_type": "code",
   "execution_count": 345,
   "id": "e1c43e31-b4a8-4da9-a87c-1a847ba5d8a1",
   "metadata": {},
   "outputs": [
    {
     "data": {
      "text/plain": [
       "(303, 10)"
      ]
     },
     "execution_count": 345,
     "metadata": {},
     "output_type": "execute_result"
    }
   ],
   "source": [
    "df.shape\n",
    "# 303 rows and 10 columns"
   ]
  },
  {
   "cell_type": "markdown",
   "id": "40881854-79ae-4612-a3e7-de57e9ec63ac",
   "metadata": {},
   "source": [
    "#### Rows = 303\n",
    "#### Columns = 14"
   ]
  },
  {
   "cell_type": "code",
   "execution_count": 346,
   "id": "1a3acdc3-9d5a-4954-9c36-44126c0a20b3",
   "metadata": {},
   "outputs": [
    {
     "data": {
      "text/plain": [
       "Index(['Unnamed: 0', 'Age', 'Sex', 'Chest Pain', 'Resting bp(mmHg)',\n",
       "       'Cholesterol', 'Fasting Blood Sugar', 'Resting ECG', 'Max Heart Rate',\n",
       "       'Result'],\n",
       "      dtype='object')"
      ]
     },
     "execution_count": 346,
     "metadata": {},
     "output_type": "execute_result"
    }
   ],
   "source": [
    "df.columns"
   ]
  },
  {
   "cell_type": "code",
   "execution_count": 347,
   "id": "5311b419-0f92-41dc-9171-5e075353e6c5",
   "metadata": {},
   "outputs": [
    {
     "data": {
      "text/plain": [
       "Unnamed: 0             303\n",
       "Age                     41\n",
       "Sex                      2\n",
       "Chest Pain               4\n",
       "Resting bp(mmHg)        49\n",
       "Cholesterol            152\n",
       "Fasting Blood Sugar      2\n",
       "Resting ECG              3\n",
       "Max Heart Rate          91\n",
       "Result                   2\n",
       "dtype: int64"
      ]
     },
     "execution_count": 347,
     "metadata": {},
     "output_type": "execute_result"
    }
   ],
   "source": [
    "df.nunique()"
   ]
  },
  {
   "cell_type": "code",
   "execution_count": 348,
   "id": "49cddf9d-5bd5-43e5-a916-790727793569",
   "metadata": {},
   "outputs": [
    {
     "data": {
      "text/html": [
       "<div>\n",
       "<style scoped>\n",
       "    .dataframe tbody tr th:only-of-type {\n",
       "        vertical-align: middle;\n",
       "    }\n",
       "\n",
       "    .dataframe tbody tr th {\n",
       "        vertical-align: top;\n",
       "    }\n",
       "\n",
       "    .dataframe thead th {\n",
       "        text-align: right;\n",
       "    }\n",
       "</style>\n",
       "<table border=\"1\" class=\"dataframe\">\n",
       "  <thead>\n",
       "    <tr style=\"text-align: right;\">\n",
       "      <th></th>\n",
       "      <th>Unnamed: 0</th>\n",
       "      <th>Age</th>\n",
       "      <th>Sex</th>\n",
       "      <th>Chest Pain</th>\n",
       "      <th>Resting bp(mmHg)</th>\n",
       "      <th>Cholesterol</th>\n",
       "      <th>Fasting Blood Sugar</th>\n",
       "      <th>Resting ECG</th>\n",
       "      <th>Max Heart Rate</th>\n",
       "      <th>Result</th>\n",
       "    </tr>\n",
       "  </thead>\n",
       "  <tbody>\n",
       "    <tr>\n",
       "      <th>count</th>\n",
       "      <td>303.000000</td>\n",
       "      <td>303.000000</td>\n",
       "      <td>303.000000</td>\n",
       "      <td>303.000000</td>\n",
       "      <td>303.000000</td>\n",
       "      <td>303.000000</td>\n",
       "      <td>303.000000</td>\n",
       "      <td>303.000000</td>\n",
       "      <td>303.000000</td>\n",
       "      <td>303.000000</td>\n",
       "    </tr>\n",
       "    <tr>\n",
       "      <th>mean</th>\n",
       "      <td>151.000000</td>\n",
       "      <td>54.366337</td>\n",
       "      <td>0.683168</td>\n",
       "      <td>0.966997</td>\n",
       "      <td>131.623762</td>\n",
       "      <td>246.264026</td>\n",
       "      <td>0.148515</td>\n",
       "      <td>0.528053</td>\n",
       "      <td>149.646865</td>\n",
       "      <td>0.544554</td>\n",
       "    </tr>\n",
       "    <tr>\n",
       "      <th>std</th>\n",
       "      <td>87.612784</td>\n",
       "      <td>9.082101</td>\n",
       "      <td>0.466011</td>\n",
       "      <td>1.032052</td>\n",
       "      <td>17.538143</td>\n",
       "      <td>51.830751</td>\n",
       "      <td>0.356198</td>\n",
       "      <td>0.525860</td>\n",
       "      <td>22.905161</td>\n",
       "      <td>0.498835</td>\n",
       "    </tr>\n",
       "    <tr>\n",
       "      <th>min</th>\n",
       "      <td>0.000000</td>\n",
       "      <td>29.000000</td>\n",
       "      <td>0.000000</td>\n",
       "      <td>0.000000</td>\n",
       "      <td>94.000000</td>\n",
       "      <td>126.000000</td>\n",
       "      <td>0.000000</td>\n",
       "      <td>0.000000</td>\n",
       "      <td>71.000000</td>\n",
       "      <td>0.000000</td>\n",
       "    </tr>\n",
       "    <tr>\n",
       "      <th>25%</th>\n",
       "      <td>75.500000</td>\n",
       "      <td>47.500000</td>\n",
       "      <td>0.000000</td>\n",
       "      <td>0.000000</td>\n",
       "      <td>120.000000</td>\n",
       "      <td>211.000000</td>\n",
       "      <td>0.000000</td>\n",
       "      <td>0.000000</td>\n",
       "      <td>133.500000</td>\n",
       "      <td>0.000000</td>\n",
       "    </tr>\n",
       "    <tr>\n",
       "      <th>50%</th>\n",
       "      <td>151.000000</td>\n",
       "      <td>55.000000</td>\n",
       "      <td>1.000000</td>\n",
       "      <td>1.000000</td>\n",
       "      <td>130.000000</td>\n",
       "      <td>240.000000</td>\n",
       "      <td>0.000000</td>\n",
       "      <td>1.000000</td>\n",
       "      <td>153.000000</td>\n",
       "      <td>1.000000</td>\n",
       "    </tr>\n",
       "    <tr>\n",
       "      <th>75%</th>\n",
       "      <td>226.500000</td>\n",
       "      <td>61.000000</td>\n",
       "      <td>1.000000</td>\n",
       "      <td>2.000000</td>\n",
       "      <td>140.000000</td>\n",
       "      <td>274.500000</td>\n",
       "      <td>0.000000</td>\n",
       "      <td>1.000000</td>\n",
       "      <td>166.000000</td>\n",
       "      <td>1.000000</td>\n",
       "    </tr>\n",
       "    <tr>\n",
       "      <th>max</th>\n",
       "      <td>302.000000</td>\n",
       "      <td>77.000000</td>\n",
       "      <td>1.000000</td>\n",
       "      <td>3.000000</td>\n",
       "      <td>200.000000</td>\n",
       "      <td>564.000000</td>\n",
       "      <td>1.000000</td>\n",
       "      <td>2.000000</td>\n",
       "      <td>202.000000</td>\n",
       "      <td>1.000000</td>\n",
       "    </tr>\n",
       "  </tbody>\n",
       "</table>\n",
       "</div>"
      ],
      "text/plain": [
       "       Unnamed: 0         Age         Sex  Chest Pain Resting bp(mmHg)  \\\n",
       "count  303.000000  303.000000  303.000000  303.000000       303.000000   \n",
       "mean   151.000000   54.366337    0.683168    0.966997       131.623762   \n",
       "std     87.612784    9.082101    0.466011    1.032052        17.538143   \n",
       "min      0.000000   29.000000    0.000000    0.000000        94.000000   \n",
       "25%     75.500000   47.500000    0.000000    0.000000       120.000000   \n",
       "50%    151.000000   55.000000    1.000000    1.000000       130.000000   \n",
       "75%    226.500000   61.000000    1.000000    2.000000       140.000000   \n",
       "max    302.000000   77.000000    1.000000    3.000000       200.000000   \n",
       "\n",
       "      Cholesterol Fasting Blood Sugar Resting ECG Max Heart Rate      Result  \n",
       "count  303.000000          303.000000  303.000000     303.000000  303.000000  \n",
       "mean   246.264026            0.148515    0.528053     149.646865    0.544554  \n",
       "std     51.830751            0.356198    0.525860      22.905161    0.498835  \n",
       "min    126.000000            0.000000    0.000000      71.000000    0.000000  \n",
       "25%    211.000000            0.000000    0.000000     133.500000    0.000000  \n",
       "50%    240.000000            0.000000    1.000000     153.000000    1.000000  \n",
       "75%    274.500000            0.000000    1.000000     166.000000    1.000000  \n",
       "max    564.000000            1.000000    2.000000     202.000000    1.000000  "
      ]
     },
     "execution_count": 348,
     "metadata": {},
     "output_type": "execute_result"
    }
   ],
   "source": [
    "df.describe().apply(lambda s: s.apply(lambda x: format(x, 'f')))\n"
   ]
  },
  {
   "cell_type": "code",
   "execution_count": 349,
   "id": "79b859f8-3427-4235-92bd-5446d2b53988",
   "metadata": {},
   "outputs": [
    {
     "data": {
      "text/plain": [
       "0      2\n",
       "1      0\n",
       "2      2\n",
       "3      0\n",
       "4      2\n",
       "      ..\n",
       "298    0\n",
       "299    0\n",
       "300    0\n",
       "301    2\n",
       "302    2\n",
       "Name: Chest Pain, Length: 303, dtype: int64"
      ]
     },
     "execution_count": 349,
     "metadata": {},
     "output_type": "execute_result"
    }
   ],
   "source": [
    "# The removed column \"Unnamed: 0\" is still present in the dataframe\n",
    "#need to get rid of it \n",
    "\n",
    "df[\"Chest Pain\"]"
   ]
  },
  {
   "cell_type": "code",
   "execution_count": 350,
   "id": "1f5508f7-a08c-40e3-b8b2-a80e13ab654c",
   "metadata": {},
   "outputs": [
    {
     "name": "stdout",
     "output_type": "stream",
     "text": [
      "<class 'pandas.core.frame.DataFrame'>\n",
      "RangeIndex: 303 entries, 0 to 302\n",
      "Data columns (total 10 columns):\n",
      " #   Column               Non-Null Count  Dtype\n",
      "---  ------               --------------  -----\n",
      " 0   Unnamed: 0           303 non-null    int64\n",
      " 1   Age                  303 non-null    int64\n",
      " 2   Sex                  303 non-null    int64\n",
      " 3   Chest Pain           303 non-null    int64\n",
      " 4   Resting bp(mmHg)     303 non-null    int64\n",
      " 5   Cholesterol          303 non-null    int64\n",
      " 6   Fasting Blood Sugar  303 non-null    int64\n",
      " 7   Resting ECG          303 non-null    int64\n",
      " 8   Max Heart Rate       303 non-null    int64\n",
      " 9   Result               303 non-null    int64\n",
      "dtypes: int64(10)\n",
      "memory usage: 23.8 KB\n"
     ]
    }
   ],
   "source": [
    "# set numeric data\n",
    "df.info()\n"
   ]
  },
  {
   "cell_type": "markdown",
   "id": "a0c6ecdd-5314-444e-b99e-00ccc1d0b819",
   "metadata": {},
   "source": [
    "### **Cleaning and Grouping Data**"
   ]
  },
  {
   "cell_type": "code",
   "execution_count": 351,
   "id": "c65141fa-ba2a-4c70-86fd-aca8e34ae666",
   "metadata": {},
   "outputs": [
    {
     "data": {
      "text/html": [
       "<div>\n",
       "<style scoped>\n",
       "    .dataframe tbody tr th:only-of-type {\n",
       "        vertical-align: middle;\n",
       "    }\n",
       "\n",
       "    .dataframe tbody tr th {\n",
       "        vertical-align: top;\n",
       "    }\n",
       "\n",
       "    .dataframe thead th {\n",
       "        text-align: right;\n",
       "    }\n",
       "</style>\n",
       "<table border=\"1\" class=\"dataframe\">\n",
       "  <thead>\n",
       "    <tr style=\"text-align: right;\">\n",
       "      <th></th>\n",
       "      <th>Unnamed: 0</th>\n",
       "      <th>Age</th>\n",
       "      <th>Sex</th>\n",
       "      <th>Chest Pain</th>\n",
       "      <th>Resting bp(mmHg)</th>\n",
       "      <th>Cholesterol</th>\n",
       "      <th>Fasting Blood Sugar</th>\n",
       "      <th>Resting ECG</th>\n",
       "      <th>Max Heart Rate</th>\n",
       "      <th>Result</th>\n",
       "    </tr>\n",
       "  </thead>\n",
       "  <tbody>\n",
       "    <tr>\n",
       "      <th>mean</th>\n",
       "      <td>151.0</td>\n",
       "      <td>54.366337</td>\n",
       "      <td>0.683168</td>\n",
       "      <td>0.966997</td>\n",
       "      <td>131.623762</td>\n",
       "      <td>246.264026</td>\n",
       "      <td>0.148515</td>\n",
       "      <td>0.528053</td>\n",
       "      <td>149.646865</td>\n",
       "      <td>0.544554</td>\n",
       "    </tr>\n",
       "  </tbody>\n",
       "</table>\n",
       "</div>"
      ],
      "text/plain": [
       "      Unnamed: 0        Age       Sex  Chest Pain  Resting bp(mmHg)  \\\n",
       "mean       151.0  54.366337  0.683168    0.966997        131.623762   \n",
       "\n",
       "      Cholesterol  Fasting Blood Sugar  Resting ECG  Max Heart Rate    Result  \n",
       "mean   246.264026             0.148515     0.528053      149.646865  0.544554  "
      ]
     },
     "execution_count": 351,
     "metadata": {},
     "output_type": "execute_result"
    }
   ],
   "source": [
    "df.groupby(by='Age')\n",
    "df.agg([np.mean])"
   ]
  },
  {
   "cell_type": "markdown",
   "id": "0a888d1d-f341-4c3b-895a-5aa6e53b3ff1",
   "metadata": {},
   "source": [
    "##### The **mean** age of patients is 54."
   ]
  },
  {
   "cell_type": "code",
   "execution_count": 352,
   "id": "78ef441c-2a91-46ea-919c-ce443bffe709",
   "metadata": {},
   "outputs": [],
   "source": [
    "df['Result']= df['Result'].map({1:'yes', 0:'no'})\n",
    "df['Chest Pain'] = df['Chest Pain'].map({0:'Non-Anginal Pain',2:'Typical Angina'})\n"
   ]
  },
  {
   "cell_type": "markdown",
   "id": "4a5e8b43-df68-426c-930e-6fa27b75c27b",
   "metadata": {},
   "source": [
    "##### Changed the outputs from in columns Result and Chest Pain in order for the reader to more clearly understand the information.\n",
    "**Typical Angina**: Sub-sternal chest pain caused by physical exertion or emotional stress"
   ]
  },
  {
   "cell_type": "code",
   "execution_count": 353,
   "id": "bae48709-d125-4956-a6f9-6b5715207166",
   "metadata": {},
   "outputs": [
    {
     "data": {
      "text/plain": [
       "Sex\n",
       "0     96\n",
       "1    207\n",
       "dtype: int64"
      ]
     },
     "execution_count": 353,
     "metadata": {},
     "output_type": "execute_result"
    }
   ],
   "source": [
    "df.groupby(by='Sex').size()\n",
    "#this separates out the men and the women.\n",
    "# 0 = female\n",
    "# 1 = male"
   ]
  },
  {
   "cell_type": "markdown",
   "id": "5b9737db-807a-4ac6-902c-d82ae95aaaa3",
   "metadata": {},
   "source": [
    "#### Sex of patients is separated into female and male\n",
    "\n",
    "##### Female = 0\n",
    "##### Male = 1"
   ]
  },
  {
   "cell_type": "code",
   "execution_count": 354,
   "id": "c20d9242-dea0-40a4-8c2e-3639a79a4236",
   "metadata": {},
   "outputs": [
    {
     "name": "stdout",
     "output_type": "stream",
     "text": [
      "68.54304635761589\n"
     ]
    }
   ],
   "source": [
    "quotient = 207 / 302\n",
    "percent = quotient*100\n",
    "print(percent)"
   ]
  },
  {
   "cell_type": "markdown",
   "id": "0c8af3e9-3cd0-42ff-b731-ed890449996e",
   "metadata": {},
   "source": [
    "There are **302** patients in this study, 96 are women and 207 are men. This means that **68.543%** of patients are men. For obvious reasons we can assume that there will be a higher number of male patients experiencing a heart attack than female patients. "
   ]
  },
  {
   "cell_type": "code",
   "execution_count": 355,
   "id": "44c696f9-8347-4f21-8d75-4a5da1482867",
   "metadata": {},
   "outputs": [
    {
     "data": {
      "text/html": [
       "<div>\n",
       "<style scoped>\n",
       "    .dataframe tbody tr th:only-of-type {\n",
       "        vertical-align: middle;\n",
       "    }\n",
       "\n",
       "    .dataframe tbody tr th {\n",
       "        vertical-align: top;\n",
       "    }\n",
       "\n",
       "    .dataframe thead th {\n",
       "        text-align: right;\n",
       "    }\n",
       "</style>\n",
       "<table border=\"1\" class=\"dataframe\">\n",
       "  <thead>\n",
       "    <tr style=\"text-align: right;\">\n",
       "      <th></th>\n",
       "      <th>Unnamed: 0</th>\n",
       "      <th>Age</th>\n",
       "      <th>Sex</th>\n",
       "      <th>Chest Pain</th>\n",
       "      <th>Resting bp(mmHg)</th>\n",
       "      <th>Cholesterol</th>\n",
       "      <th>Fasting Blood Sugar</th>\n",
       "      <th>Resting ECG</th>\n",
       "      <th>Max Heart Rate</th>\n",
       "      <th>Result</th>\n",
       "    </tr>\n",
       "  </thead>\n",
       "  <tbody>\n",
       "    <tr>\n",
       "      <th>0</th>\n",
       "      <td>111</td>\n",
       "      <td>57</td>\n",
       "      <td>1</td>\n",
       "      <td>Typical Angina</td>\n",
       "      <td>150</td>\n",
       "      <td>126</td>\n",
       "      <td>1</td>\n",
       "      <td>1</td>\n",
       "      <td>173</td>\n",
       "      <td>yes</td>\n",
       "    </tr>\n",
       "    <tr>\n",
       "      <th>1</th>\n",
       "      <td>301</td>\n",
       "      <td>57</td>\n",
       "      <td>1</td>\n",
       "      <td>Non-Anginal Pain</td>\n",
       "      <td>130</td>\n",
       "      <td>131</td>\n",
       "      <td>0</td>\n",
       "      <td>1</td>\n",
       "      <td>115</td>\n",
       "      <td>no</td>\n",
       "    </tr>\n",
       "    <tr>\n",
       "      <th>2</th>\n",
       "      <td>53</td>\n",
       "      <td>44</td>\n",
       "      <td>0</td>\n",
       "      <td>Typical Angina</td>\n",
       "      <td>108</td>\n",
       "      <td>141</td>\n",
       "      <td>0</td>\n",
       "      <td>1</td>\n",
       "      <td>175</td>\n",
       "      <td>yes</td>\n",
       "    </tr>\n",
       "    <tr>\n",
       "      <th>3</th>\n",
       "      <td>151</td>\n",
       "      <td>71</td>\n",
       "      <td>0</td>\n",
       "      <td>Non-Anginal Pain</td>\n",
       "      <td>112</td>\n",
       "      <td>149</td>\n",
       "      <td>0</td>\n",
       "      <td>1</td>\n",
       "      <td>125</td>\n",
       "      <td>yes</td>\n",
       "    </tr>\n",
       "    <tr>\n",
       "      <th>4</th>\n",
       "      <td>267</td>\n",
       "      <td>49</td>\n",
       "      <td>1</td>\n",
       "      <td>Typical Angina</td>\n",
       "      <td>118</td>\n",
       "      <td>149</td>\n",
       "      <td>0</td>\n",
       "      <td>0</td>\n",
       "      <td>126</td>\n",
       "      <td>no</td>\n",
       "    </tr>\n",
       "  </tbody>\n",
       "</table>\n",
       "</div>"
      ],
      "text/plain": [
       "   Unnamed: 0  Age  Sex        Chest Pain  Resting bp(mmHg)  Cholesterol  \\\n",
       "0         111   57    1    Typical Angina               150          126   \n",
       "1         301   57    1  Non-Anginal Pain               130          131   \n",
       "2          53   44    0    Typical Angina               108          141   \n",
       "3         151   71    0  Non-Anginal Pain               112          149   \n",
       "4         267   49    1    Typical Angina               118          149   \n",
       "\n",
       "   Fasting Blood Sugar  Resting ECG  Max Heart Rate Result  \n",
       "0                    1            1             173    yes  \n",
       "1                    0            1             115     no  \n",
       "2                    0            1             175    yes  \n",
       "3                    0            1             125    yes  \n",
       "4                    0            0             126     no  "
      ]
     },
     "execution_count": 355,
     "metadata": {},
     "output_type": "execute_result"
    }
   ],
   "source": [
    "df.head()"
   ]
  },
  {
   "cell_type": "markdown",
   "id": "f8a195a1-e5d9-4ab0-a70a-17dbf9abe9ff",
   "metadata": {},
   "source": [
    "### **Data Visualizations**\n"
   ]
  },
  {
   "cell_type": "code",
   "execution_count": 365,
   "id": "b3cfc3ae-688b-4ab7-9bcd-91aa50f3066d",
   "metadata": {},
   "outputs": [
    {
     "data": {
      "text/plain": [
       "Text(0.5, 1.0, 'Count of Heart Attack Per Sex')"
      ]
     },
     "execution_count": 365,
     "metadata": {},
     "output_type": "execute_result"
    },
    {
     "data": {
      "image/png": "[encoded data removed]",
      "text/plain": [
       "<Figure size 432x288 with 1 Axes>"
      ]
     },
     "metadata": {
      "needs_background": "light"
     },
     "output_type": "display_data"
    }
   ],
   "source": [
    "ax = sns.histplot (data = df, x=\"Sex\",stat=\"count\", palette=\"magma\")\n",
    "ax.set_title (\"Count of Heart Attack Per Sex\")\n",
    "# Figure showing that there were obviously more men in this study"
   ]
  },
  {
   "cell_type": "markdown",
   "id": "487a2054-ad52-48d0-9374-22c5207049e5",
   "metadata": {},
   "source": [
    "##### Figure 1. Displays the number of heart attacks occuring between male and female patients. With heart attacks resulting more frequently in male patients at **>100**."
   ]
  },
  {
   "cell_type": "code",
   "execution_count": 367,
   "id": "eff29b57-2ba3-4894-9221-96a47b7b40a7",
   "metadata": {},
   "outputs": [
    {
     "data": {
      "text/plain": [
       "<AxesSubplot:title={'center':'Occurence of Heart Attacks Per Sex'}, xlabel='Result', ylabel='count'>"
      ]
     },
     "execution_count": 367,
     "metadata": {},
     "output_type": "execute_result"
    },
    {
     "data": {
      "image/png": "[encoded data removed]",
      "text/plain": [
       "<Figure size 1440x2160 with 1 Axes>"
      ]
     },
     "metadata": {
      "needs_background": "light"
     },
     "output_type": "display_data"
    }
   ],
   "source": [
    "plt.figure(figsize=(20,30))\n",
    "plt.subplots_adjust(left=0.1,\n",
    "                    bottom=0.1, \n",
    "                    right=0.9, \n",
    "                    top=0.9, \n",
    "                    wspace=0.4, \n",
    "                    hspace=0.4)\n",
    "\n",
    "plt.subplot(4,2,1)\n",
    "plt.title('Occurence of Heart Attacks Per Sex',fontsize=15)\n",
    "sns.countplot(data = df, x='Result', hue= 'Sex', palette = 'magma')"
   ]
  },
  {
   "cell_type": "markdown",
   "id": "d9b3af6e-b948-4f8d-ba06-e8d21b524562",
   "metadata": {},
   "source": [
    "Figure 2. Countplot displaying the prevalence of heart attack results for the sexes. "
   ]
  },
  {
   "cell_type": "code",
   "execution_count": 358,
   "id": "72db6784-5986-4a13-a935-3dac9c32006a",
   "metadata": {},
   "outputs": [
    {
     "data": {
      "text/plain": [
       "<AxesSubplot:title={'center':' Chest Pain by Sex'}, xlabel='Chest Pain', ylabel='count'>"
      ]
     },
     "execution_count": 358,
     "metadata": {},
     "output_type": "execute_result"
    },
    {
     "data": {
      "image/png": "[encoded data removed]",
      "text/plain": [
       "<Figure size 1440x2160 with 1 Axes>"
      ]
     },
     "metadata": {
      "needs_background": "light"
     },
     "output_type": "display_data"
    }
   ],
   "source": [
    "plt.figure(figsize=(20,30))\n",
    "plt.subplots_adjust(left=0.1,\n",
    "                    bottom=0.1, \n",
    "                    right=0.9, \n",
    "                    top=0.9, \n",
    "                    wspace=0.4, \n",
    "                    hspace=0.4)\n",
    "\n",
    "plt.subplot(4,2,1)\n",
    "plt.title(' Chest Pain by Sex',fontsize=15)\n",
    "sns.countplot(data= df, x=\"Chest Pain\", hue='Sex', palette= \"magma\")"
   ]
  },
  {
   "cell_type": "markdown",
   "id": "5174bd20-4ffb-4110-8527-df80e34a480a",
   "metadata": {
    "tags": []
   },
   "source": [
    "##### Figure 3. Countplot exhibiting the type of chest pain felt by the patients. Male patients experienced more of typical angina\n",
    "\n",
    "#####"
   ]
  },
  {
   "cell_type": "code",
   "execution_count": 359,
   "id": "f5a758dc-6a26-4c8c-b47d-856c5c069246",
   "metadata": {},
   "outputs": [
    {
     "data": {
      "text/plain": [
       "<AxesSubplot:title={'center':' Fasting Blood Sugar by Sex'}, xlabel='Fasting Blood Sugar', ylabel='count'>"
      ]
     },
     "execution_count": 359,
     "metadata": {},
     "output_type": "execute_result"
    },
    {
     "data": {
      "image/png": "[encoded data removed]",
      "text/plain": [
       "<Figure size 1440x2160 with 1 Axes>"
      ]
     },
     "metadata": {
      "needs_background": "light"
     },
     "output_type": "display_data"
    }
   ],
   "source": [
    "plt.figure(figsize=(20,30))\n",
    "plt.subplots_adjust(left=0.1,\n",
    "                    bottom=0.1, \n",
    "                    right=0.9, \n",
    "                    top=0.9, \n",
    "                    wspace=0.4, \n",
    "                    hspace=0.4)\n",
    "\n",
    "plt.subplot(4,2,1)\n",
    "plt.title(' Fasting Blood Sugar by Sex',fontsize=15)\n",
    "sns.countplot(data= df, x=\"Fasting Blood Sugar\", hue='Sex', palette= \"magma\")"
   ]
  },
  {
   "cell_type": "markdown",
   "id": "0d88d97f-97f5-4599-9b04-87794705945a",
   "metadata": {},
   "source": [
    "##### Figure 4. Barplot showing the Fasting Blood Sugar of patients"
   ]
  },
  {
   "cell_type": "code",
   "execution_count": 368,
   "id": "9845837a-c66b-48fc-8b2f-e389dd5b2050",
   "metadata": {},
   "outputs": [
    {
     "data": {
      "text/plain": [
       "Text(0.5, 1.0, 'The Number of Patients Experiencing Chest Pain vs their Cholesterol')"
      ]
     },
     "execution_count": 368,
     "metadata": {},
     "output_type": "execute_result"
    },
    {
     "data": {
      "image/png": "[encoded data removed]",
      "text/plain": [
       "<Figure size 432x288 with 1 Axes>"
      ]
     },
     "metadata": {
      "needs_background": "light"
     },
     "output_type": "display_data"
    }
   ],
   "source": [
    "a = sns.barplot(data=df,x=\"Chest Pain\", y=\"Cholesterol\", hue=\"Result\",\n",
    "               palette=\"magma\")\n",
    "plt.title('The Number of Patients Experiencing Chest Pain vs their Cholesterol')"
   ]
  },
  {
   "cell_type": "markdown",
   "id": "5e844170-4001-4cb0-8d69-7aa931fed191",
   "metadata": {},
   "source": [
    "##### Figure 5. Barplot displaying what kind of chest pain was felt by patients along with their cholesterol levels"
   ]
  },
  {
   "cell_type": "code",
   "execution_count": 374,
   "id": "847d1da5-6893-4450-a27a-da7f799e7f9f",
   "metadata": {},
   "outputs": [
    {
     "data": {
      "text/plain": [
       "Text(0.5, 1.0, 'Result of Heart Attack Due to Cholesterol Level')"
      ]
     },
     "execution_count": 374,
     "metadata": {},
     "output_type": "execute_result"
    },
    {
     "data": {
      "image/png": "[encoded data removed]",
      "text/plain": [
       "<Figure size 360x360 with 1 Axes>"
      ]
     },
     "metadata": {
      "needs_background": "light"
     },
     "output_type": "display_data"
    }
   ],
   "source": [
    "df1 = sns.catplot(data=df, x=\"Result\",y=\"Cholesterol\")\n",
    "plt.title('Result of Heart Attack Due to Cholesterol Level')"
   ]
  },
  {
   "cell_type": "markdown",
   "id": "37a8aaa9-9cc0-4ffc-b8ef-c71bb1789a86",
   "metadata": {},
   "source": [
    "##### Figure 6. Plot showing the comparison of patient cholesterol levels and whether or not they experienced a heart attack.\n",
    "\n",
    "From this plot it is hard to draw any conclusions about cholesterol and the effect it has on a patient having a heart attack; the values look very similar other than a few outliers."
   ]
  },
  {
   "cell_type": "code",
   "execution_count": 370,
   "id": "629833e7-1a04-4319-8e3a-aa384ff37659",
   "metadata": {},
   "outputs": [
    {
     "data": {
      "text/plain": [
       "Text(0.5, 1.0, 'Density of Cholesterol Levels Per Sex')"
      ]
     },
     "execution_count": 370,
     "metadata": {},
     "output_type": "execute_result"
    },
    {
     "data": {
      "image/png": "[encoded data removed]",
      "text/plain": [
       "<Figure size 405.725x360 with 1 Axes>"
      ]
     },
     "metadata": {
      "needs_background": "light"
     },
     "output_type": "display_data"
    }
   ],
   "source": [
    "sns.displot(df, x = \"Cholesterol\", hue=\"Sex\", kind=\"kde\", palette=\"magma\")\n",
    "plt.title('Density of Cholesterol Levels Per Sex')"
   ]
  },
  {
   "cell_type": "markdown",
   "id": "b662611e-a191-45b0-8275-7006b659858f",
   "metadata": {},
   "source": [
    "##### Figure 7. Density plot of Cholesterol levels per Sex."
   ]
  },
  {
   "cell_type": "code",
   "execution_count": 371,
   "id": "252c35f1-73a6-4a32-877b-331a759faf91",
   "metadata": {},
   "outputs": [
    {
     "data": {
      "text/plain": [
       "Text(0.5, 1.0, 'Cholesterol Level by Sex')"
      ]
     },
     "execution_count": 371,
     "metadata": {},
     "output_type": "execute_result"
    },
    {
     "data": {
      "image/png": "[encoded data removed]",
      "text/plain": [
       "<Figure size 432x288 with 1 Axes>"
      ]
     },
     "metadata": {
      "needs_background": "light"
     },
     "output_type": "display_data"
    }
   ],
   "source": [
    "a = sns.barplot(data=df,x=\"Sex\", y=\"Cholesterol\", hue=\"Result\",\n",
    "               palette=\"magma\")\n",
    "plt.title('Cholesterol Level by Sex')"
   ]
  },
  {
   "cell_type": "markdown",
   "id": "7d65223f-10e5-4702-ab2e-e18dee5d7391",
   "metadata": {},
   "source": [
    "##### Figure 8. Barplot showing the cholesterol levels of patients by sex."
   ]
  },
  {
   "cell_type": "markdown",
   "id": "27191e56-5e51-4db8-9f3d-4c211bd6d3c7",
   "metadata": {},
   "source": [
    "### **Analyzing Outliers**"
   ]
  },
  {
   "cell_type": "code",
   "execution_count": 373,
   "id": "088d7216-ca37-499a-bd45-231d610c6ad5",
   "metadata": {},
   "outputs": [
    {
     "data": {
      "image/png": "[encoded data removed]",
      "text/plain": [
       "<Figure size 1440x576 with 1 Axes>"
      ]
     },
     "metadata": {
      "needs_background": "light"
     },
     "output_type": "display_data"
    }
   ],
   "source": [
    "#Effect of Cholesterol on the Result of a Heart Attack\n",
    "figure = plt.figure(figsize=(20,8))\n",
    "sns.boxplot(x=\"Result\",y=\"Cholesterol\",data=df, palette=\"magma\")\n",
    "plt.title('Boxplot for Cholesterol Related to Heart Attack')\n",
    "plt.show()\n"
   ]
  },
  {
   "cell_type": "markdown",
   "id": "08757855-ca62-4441-b349-6d4f02e9ef32",
   "metadata": {},
   "source": [
    "##### Figure 9. Boxplot showing the result of heart attacks related to cholesterol."
   ]
  },
  {
   "cell_type": "markdown",
   "id": "5be18934-8a35-4def-a0d5-6af060b20fbb",
   "metadata": {},
   "source": [
    "## **Conclusion**"
   ]
  },
  {
   "cell_type": "markdown",
   "id": "4ee43168-2bbb-4c63-8230-22f0e77585de",
   "metadata": {},
   "source": [
    "Overall, the study revealed that female patients experience lesser heart attacks than their male counterparts. However, it is important to consider that that 68% of the patients in the study were male, which suggests that the results may be biased. Additionally, there was no siginificant data to conclude that increased cholesterol levels resulted in a heart attack. Moreover, male patients also experienced more non-typical angina, which leads to the conclusion that female patients who are less prone to heart attacks have more active lifestyles."
   ]
  },
  {
   "cell_type": "code",
   "execution_count": null,
   "id": "adc43890-71bf-40ef-97d1-a98446145838",
   "metadata": {},
   "outputs": [],
   "source": []
  }
 ],
 "metadata": {
  "kernelspec": {
   "display_name": "Python 3 (ipykernel)",
   "language": "python",
   "name": "python3"
  },
  "language_info": {
   "codemirror_mode": {
    "name": "ipython",
    "version": 3
   },
   "file_extension": ".py",
   "mimetype": "text/x-python",
   "name": "python",
   "nbconvert_exporter": "python",
   "pygments_lexer": "ipython3",
   "version": "3.8.5"
  },
  "toc-showmarkdowntxt": false
 },
 "nbformat": 4,
 "nbformat_minor": 5
}
