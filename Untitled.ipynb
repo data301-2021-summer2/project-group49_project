{
 "cells": [
  {
   "cell_type": "code",
   "execution_count": 11,
   "id": "4015e487-1a41-4696-bc85-630caedcd9da",
   "metadata": {},
   "outputs": [
    {
     "name": "stdout",
     "output_type": "stream",
     "text": [
      "hi!\n",
      "huh?\n",
      "ok\n"
     ]
    }
   ],
   "source": [
    "try:\n",
    "    print(\"hi!\")\n",
    "    num = 'three' \n",
    "    if num%3 != 0 :\n",
    "        print(\"nope\")\n",
    "    else:\n",
    "        print(\"yep\")\n",
    "except:\n",
    "    print(\"huh?\")\n",
    "finally:\n",
    "    print(\"ok\")\n"
   ]
  },
  {
   "cell_type": "code",
   "execution_count": 12,
   "id": "b02a86fe-d33f-4a53-bc33-303cfc51427b",
   "metadata": {},
   "outputs": [
    {
     "name": "stdout",
     "output_type": "stream",
     "text": [
      "0\n",
      "b\n",
      "d\n"
     ]
    }
   ],
   "source": [
    "try:\n",
    "    num1 = 8\n",
    "    num2 = 0 \n",
    "    print(num1*num2) \n",
    "    print(num1/num2)\n",
    "    print(\"a\")\n",
    "except:\n",
    "    print(\"b\")\n",
    "else:\n",
    "    print(\"c\")\n",
    "finally:\n",
    "    print(\"d\")"
   ]
  },
  {
   "cell_type": "code",
   "execution_count": 26,
   "id": "e168934b-88b7-4184-9b26-7fe1cbfbbf9b",
   "metadata": {},
   "outputs": [
    {
     "ename": "IndentationError",
     "evalue": "expected an indented block (Temp/ipykernel_17256/153098175.py, line 5)",
     "output_type": "error",
     "traceback": [
      "\u001b[1;36m  File \u001b[1;32m\"C:\\Users\\farid\\AppData\\Local\\Temp/ipykernel_17256/153098175.py\"\u001b[1;36m, line \u001b[1;32m5\u001b[0m\n\u001b[1;33m    sum+=my_dictionary.get(i)\u001b[0m\n\u001b[1;37m                             ^\u001b[0m\n\u001b[1;31mIndentationError\u001b[0m\u001b[1;31m:\u001b[0m expected an indented block\n"
     ]
    }
   ],
   "source": [
    "def sum_even_keys(my_dictionary):\n",
    "    sum=0\n",
    "for i in my_dictionary.keys():\n",
    "    if i%2==0:\n",
    "sum+=my_dictionary.get(i)\n",
    "return Sum"
   ]
  },
  {
   "cell_type": "code",
   "execution_count": null,
   "id": "3a75b5cd-676c-421c-bf49-d7423c0bc000",
   "metadata": {},
   "outputs": [],
   "source": [
    "\n"
   ]
  },
  {
   "cell_type": "code",
   "execution_count": 28,
   "id": "c47d862f-8255-4a8f-9ac9-e753231b9418",
   "metadata": {},
   "outputs": [
    {
     "name": "stdout",
     "output_type": "stream",
     "text": [
      "[4, 23, 42]\n"
     ]
    }
   ],
   "source": [
    "def remove_middle(lst, start, end):\n",
    "    return (lst[:start] + lst[end+1:])\n",
    "print(remove_middle([4, 8 , 15, 16, 23, 42], 1, 3))"
   ]
  },
  {
   "cell_type": "code",
   "execution_count": 32,
   "id": "e743fed6-90d0-48fd-a574-059df1d45070",
   "metadata": {},
   "outputs": [],
   "source": [
    "word_lengths = dict"
   ]
  },
  {
   "cell_type": "code",
   "execution_count": 34,
   "id": "da00a427-42c7-4d2a-91c0-867e97432005",
   "metadata": {},
   "outputs": [
    {
     "ename": "UnboundLocalError",
     "evalue": "local variable 'word' referenced before assignment",
     "output_type": "error",
     "traceback": [
      "\u001b[1;31m---------------------------------------------------------------------------\u001b[0m",
      "\u001b[1;31mUnboundLocalError\u001b[0m                         Traceback (most recent call last)",
      "\u001b[1;32m~\\AppData\\Local\\Temp/ipykernel_17256/543213081.py\u001b[0m in \u001b[0;36m<module>\u001b[1;34m\u001b[0m\n\u001b[1;32m----> 1\u001b[1;33m \u001b[0mword_length_dictionary\u001b[0m\u001b[1;33m(\u001b[0m\u001b[1;34m\"The elephant is gray and the sky is blue\"\u001b[0m\u001b[1;33m)\u001b[0m\u001b[1;33m\u001b[0m\u001b[1;33m\u001b[0m\u001b[0m\n\u001b[0m\u001b[0;32m      2\u001b[0m \u001b[1;33m\u001b[0m\u001b[0m\n\u001b[0;32m      3\u001b[0m \u001b[1;32mdef\u001b[0m \u001b[0mword_length_dictionary\u001b[0m\u001b[1;33m(\u001b[0m\u001b[0mwords\u001b[0m\u001b[1;33m)\u001b[0m\u001b[1;33m:\u001b[0m\u001b[1;33m\u001b[0m\u001b[1;33m\u001b[0m\u001b[0m\n\u001b[0;32m      4\u001b[0m     \u001b[0mwords\u001b[0m \u001b[1;33m=\u001b[0m \u001b[0mword\u001b[0m\u001b[1;33m.\u001b[0m\u001b[0mlower\u001b[0m\u001b[1;33m(\u001b[0m\u001b[1;33m)\u001b[0m\u001b[1;33m.\u001b[0m\u001b[0msplit\u001b[0m\u001b[1;33m(\u001b[0m\u001b[1;33m)\u001b[0m\u001b[1;33m\u001b[0m\u001b[1;33m\u001b[0m\u001b[0m\n\u001b[0;32m      5\u001b[0m     \u001b[0mword_lengths\u001b[0m \u001b[1;33m=\u001b[0m \u001b[1;33m{\u001b[0m\u001b[1;33m}\u001b[0m\u001b[1;33m\u001b[0m\u001b[1;33m\u001b[0m\u001b[0m\n",
      "\u001b[1;32m~\\AppData\\Local\\Temp/ipykernel_17256/543213081.py\u001b[0m in \u001b[0;36mword_length_dictionary\u001b[1;34m(words)\u001b[0m\n\u001b[0;32m      2\u001b[0m \u001b[1;33m\u001b[0m\u001b[0m\n\u001b[0;32m      3\u001b[0m \u001b[1;32mdef\u001b[0m \u001b[0mword_length_dictionary\u001b[0m\u001b[1;33m(\u001b[0m\u001b[0mwords\u001b[0m\u001b[1;33m)\u001b[0m\u001b[1;33m:\u001b[0m\u001b[1;33m\u001b[0m\u001b[1;33m\u001b[0m\u001b[0m\n\u001b[1;32m----> 4\u001b[1;33m     \u001b[0mwords\u001b[0m \u001b[1;33m=\u001b[0m \u001b[0mword\u001b[0m\u001b[1;33m.\u001b[0m\u001b[0mlower\u001b[0m\u001b[1;33m(\u001b[0m\u001b[1;33m)\u001b[0m\u001b[1;33m.\u001b[0m\u001b[0msplit\u001b[0m\u001b[1;33m(\u001b[0m\u001b[1;33m)\u001b[0m\u001b[1;33m\u001b[0m\u001b[1;33m\u001b[0m\u001b[0m\n\u001b[0m\u001b[0;32m      5\u001b[0m     \u001b[0mword_lengths\u001b[0m \u001b[1;33m=\u001b[0m \u001b[1;33m{\u001b[0m\u001b[1;33m}\u001b[0m\u001b[1;33m\u001b[0m\u001b[1;33m\u001b[0m\u001b[0m\n\u001b[0;32m      6\u001b[0m     \u001b[1;32mfor\u001b[0m \u001b[0mword\u001b[0m \u001b[1;32min\u001b[0m \u001b[0mwords\u001b[0m\u001b[1;33m:\u001b[0m\u001b[1;33m\u001b[0m\u001b[1;33m\u001b[0m\u001b[0m\n",
      "\u001b[1;31mUnboundLocalError\u001b[0m: local variable 'word' referenced before assignment"
     ]
    }
   ],
   "source": [
    "word_length_dictionary(\"The elephant is gray and the sky is blue\")\n",
    "\n",
    "def word_length_dictionary(words):\n",
    "    words = word.lower().split()\n",
    "    word_lengths = {}\n",
    "    for word in words:\n",
    "        words=len(word)\n",
    "        word_lengths[words]=word\n",
    "print(word_lengths)\n",
    "return word_lengths"
   ]
  },
  {
   "cell_type": "code",
   "execution_count": 36,
   "id": "ffd7f121-9eaf-4f38-9862-2115a6afc124",
   "metadata": {},
   "outputs": [
    {
     "name": "stdout",
     "output_type": "stream",
     "text": [
      "True\n",
      "True\n"
     ]
    }
   ],
   "source": [
    "def divisible_by_ten(num):\n",
    "  if ((num % 10 == 0)):\n",
    "    return True\n",
    "  else:\n",
    "    return False\n",
    "  \n",
    "print(divisible_by_ten(20))\n",
    "\n",
    "print(divisible_by_ten(30))\n"
   ]
  },
  {
   "cell_type": "code",
   "execution_count": null,
   "id": "dcc68b56-2e50-40d6-ab57-a018c326cf86",
   "metadata": {},
   "outputs": [],
   "source": []
  }
 ],
 "metadata": {
  "kernelspec": {
   "display_name": "Python 3 (ipykernel)",
   "language": "python",
   "name": "python3"
  },
  "language_info": {
   "codemirror_mode": {
    "name": "ipython",
    "version": 3
   },
   "file_extension": ".py",
   "mimetype": "text/x-python",
   "name": "python",
   "nbconvert_exporter": "python",
   "pygments_lexer": "ipython3",
   "version": "3.8.5"
  }
 },
 "nbformat": 4,
 "nbformat_minor": 5
}
